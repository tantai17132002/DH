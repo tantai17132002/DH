{
  "nbformat": 4,
  "nbformat_minor": 0,
  "metadata": {
    "colab": {
      "provenance": [],
      "authorship_tag": "ABX9TyNvG0ZngTEdbz8c3kml7a+g",
      "include_colab_link": true
    },
    "kernelspec": {
      "name": "python3",
      "display_name": "Python 3"
    },
    "language_info": {
      "name": "python"
    }
  },
  "cells": [
    {
      "cell_type": "markdown",
      "metadata": {
        "id": "view-in-github",
        "colab_type": "text"
      },
      "source": [
        "<a href=\"https://colab.research.google.com/github/tantai17132002/DH/blob/main/tang_cuong_day3.ipynb\" target=\"_parent\"><img src=\"https://colab.research.google.com/assets/colab-badge.svg\" alt=\"Open In Colab\"/></a>"
      ]
    },
    {
      "cell_type": "markdown",
      "source": [
        "##1. Viết chương trình mô phỏng trò chơi: Trò chơi kết thúc khi tất cả các ô đều có giá trị 1 hoặc người chơi chọn điền vào ô đã có giá trị 1"
      ],
      "metadata": {
        "id": "LVs6fJTNyIQJ"
      }
    },
    {
      "cell_type": "code",
      "execution_count": 14,
      "metadata": {
        "colab": {
          "base_uri": "https://localhost:8080/"
        },
        "id": "Tsiozg5yxcPZ",
        "outputId": "927b3d6d-d99f-48d1-a697-c59317a08479"
      },
      "outputs": [
        {
          "output_type": "stream",
          "name": "stdout",
          "text": [
            "Nhập kích thước bảng N: 2\n",
            "Bảng trống:\n",
            "0 0\n",
            "0 0\n",
            "Nhập số hàng (0 - 1): 1\n",
            "Nhập số cột (0 - 1): 1\n",
            "Bảng sau lượt chơi:\n",
            "0 0\n",
            "0 1\n",
            "Nhập số hàng (0 - 1): 1\n",
            "Nhập số cột (0 - 1): 1\n",
            "Bạn đã chọn ô đã được điền giá trị 1 nên thắng. Trò chơi kết thúc!\n"
          ]
        }
      ],
      "source": [
        "# Khởi tạo bảng trò chơi với kích thước N x N.\n",
        "def khoi_tao(N):\n",
        "    return [[0]*N for _ in range(N)]\n",
        "\n",
        "# In ra bảng trò chơi\n",
        "def in_ra_bang(bang):\n",
        "    for hang in bang:\n",
        "        print(' '.join(map(str, hang)))\n",
        "\n",
        "# Kiểm tra xem trò chơi đã kết thúc chưa.\n",
        "def train_ket_thuc_game(bang):\n",
        "    for hang in bang:\n",
        "        if 0 in hang:\n",
        "            return False\n",
        "    return True\n",
        "\n",
        "# Lập trình chơi\n",
        "def main():\n",
        "    N = int(input(\"Nhập kích thước bảng N: \"))\n",
        "    bang = khoi_tao(N)\n",
        "    print(\"Bảng trống:\")\n",
        "    in_ra_bang(bang)\n",
        "\n",
        "    while not train_ket_thuc_game(bang):\n",
        "        row = int(input(\"Nhập số hàng (0 - {}): \".format(N-1)))\n",
        "        col = int(input(\"Nhập số cột (0 - {}): \".format(N-1)))\n",
        "\n",
        "        if bang[row][col] == 1:\n",
        "            print(\"Bạn đã chọn ô đã được điền giá trị 1 nên thắng. Trò chơi kết thúc!\")\n",
        "            break\n",
        "        else:\n",
        "            bang[row][col] = 1\n",
        "            print(\"Bảng sau lượt chơi:\")\n",
        "            in_ra_bang(bang)\n",
        "\n",
        "    if train_ket_thuc_game(bang):\n",
        "        print(\"Chúc mừng, bạn đã hoàn thành trò chơi!\")\n",
        "\n",
        "if __name__ == \"__main__\":\n",
        "    main()"
      ]
    },
    {
      "cell_type": "markdown",
      "source": [
        "##2. Tìm phương án tối ưu (vị trí) với mỗi N[...] cho trước."
      ],
      "metadata": {
        "id": "ycnwBie54H_i"
      }
    },
    {
      "cell_type": "code",
      "source": [
        "def khoi_tao(N):\n",
        "    return [[0]*N for _ in range(N)]\n",
        "\n",
        "def in_ra_bang(bang):\n",
        "    for hang in bang:\n",
        "        print(' '.join(map(str, hang)))\n",
        "\n",
        "def train_ket_thuc_game(bang):\n",
        "    for hang in bang:\n",
        "        if 0 in hang:\n",
        "            return False\n",
        "    return True\n",
        "\n",
        "def main():\n",
        "    N = int(input(\"Nhập kích thước bảng N: \"))\n",
        "\n",
        "    # Hiển thị phương án tối ưu trước khi bắt đầu trò chơi\n",
        "    vi_tri_toi_uu(N)\n",
        "\n",
        "    bang = khoi_tao(N)\n",
        "    print(\"Bảng trống:\")\n",
        "    in_ra_bang(bang)\n",
        "\n",
        "    while not train_ket_thuc_game(bang):\n",
        "        row = int(input(\"Nhập số hàng (0 - {}): \".format(N-1)))\n",
        "        col = int(input(\"Nhập số cột (0 - {}): \".format(N-1)))\n",
        "\n",
        "        if bang[row][col] == 1:\n",
        "            print(\"Bạn đã chọn ô đã được điền giá trị 1 nên thắng. Trò chơi kết thúc!\")\n",
        "            break\n",
        "        else:\n",
        "            bang[row][col] = 1\n",
        "            print(\"Bảng sau lượt chơi:\")\n",
        "            in_ra_bang(bang)\n",
        "\n",
        "    if train_ket_thuc_game(bang):\n",
        "        print(\"Chúc mừng, bạn đã hoàn thành trò chơi!\")\n",
        "\n",
        "def vi_tri_toi_uu(N):\n",
        "    if N == 2:\n",
        "        print(\"Không có phương án tối ưu cụ thể cho bảng kích thước 2x2.\")\n",
        "    elif N == 3:\n",
        "        print(\"Phương án tối ưu là chọn ô giữa bảng hoặc một ô góc.\")\n",
        "    elif N == 4:\n",
        "        print(\"Phương án tối ưu là chọn ô giữa bảng, một ô góc hoặc một ô trên cạnh.\")\n",
        "    else:\n",
        "        print(\"Phương án tối ưu là chọn ô giữa bảng, nếu không thể chọn ô giữa thì chọn một ô góc hoặc một ô trên cạnh.\")\n",
        "\n",
        "if __name__ == \"__main__\":\n",
        "    main()"
      ],
      "metadata": {
        "colab": {
          "base_uri": "https://localhost:8080/"
        },
        "id": "Y-NjJG8v7RCM",
        "outputId": "67f9259d-3fc3-4f96-a835-a72e8dbac69f"
      },
      "execution_count": 25,
      "outputs": [
        {
          "output_type": "stream",
          "name": "stdout",
          "text": [
            "Nhập kích thước bảng N: 3\n",
            "Phương án tối ưu là chọn ô giữa bảng hoặc một ô góc.\n",
            "Bảng trống:\n",
            "0 0 0\n",
            "0 0 0\n",
            "0 0 0\n",
            "Nhập số hàng (0 - 2): 2\n",
            "Nhập số cột (0 - 2): 1\n",
            "Bảng sau lượt chơi:\n",
            "0 0 0\n",
            "0 0 0\n",
            "0 1 0\n",
            "Nhập số hàng (0 - 2): 2\n",
            "Nhập số cột (0 - 2): 1\n",
            "Bạn đã chọn ô đã được điền giá trị 1 nên thắng. Trò chơi kết thúc!\n"
          ]
        }
      ]
    }
  ]
}