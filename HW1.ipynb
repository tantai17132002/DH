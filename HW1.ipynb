{
  "nbformat": 4,
  "nbformat_minor": 0,
  "metadata": {
    "colab": {
      "provenance": [],
      "gpuType": "T4",
      "authorship_tag": "ABX9TyMrq5GVd4hogs+WdXUZ0a4x",
      "include_colab_link": true
    },
    "kernelspec": {
      "name": "python3",
      "display_name": "Python 3"
    },
    "language_info": {
      "name": "python"
    },
    "accelerator": "GPU"
  },
  "cells": [
    {
      "cell_type": "markdown",
      "metadata": {
        "id": "view-in-github",
        "colab_type": "text"
      },
      "source": [
        "<a href=\"https://colab.research.google.com/github/tantai17132002/DH/blob/main/HW1.ipynb\" target=\"_parent\"><img src=\"https://colab.research.google.com/assets/colab-badge.svg\" alt=\"Open In Colab\"/></a>"
      ]
    },
    {
      "cell_type": "markdown",
      "source": [
        "#**<center>Chương trình Python để mô phỏng trò chơi cá cược</center>**"
      ],
      "metadata": {
        "id": "3_1fCBmYb6yT"
      }
    },
    {
      "cell_type": "code",
      "execution_count": 6,
      "metadata": {
        "id": "1VtTzJ84b2VJ"
      },
      "outputs": [],
      "source": [
        "import random\n",
        "\n",
        "def game(p, N, W0):\n",
        "    tai_san = W0\n",
        "    while tai_san > 0 and tai_san < N:\n",
        "        if random.random() < p:\n",
        "            tai_san += 1\n",
        "        else:\n",
        "            tai_san -= 1\n",
        "    return tai_san"
      ]
    },
    {
      "cell_type": "markdown",
      "source": [
        "##1. Tính xác suất ra về tay trắng tương ứng với p = 0.25, 0.5, 0.75"
      ],
      "metadata": {
        "id": "h6L1ozuKc2k7"
      }
    },
    {
      "cell_type": "code",
      "source": [
        "def tinh_xac_suat_ket_thuc(p, N, W0, sl_mo_phong):\n",
        "    tay_trang = 0\n",
        "    for _ in range(sl_mo_phong):\n",
        "        ket_thuc_phan_thuong = game(p, N, W0)\n",
        "        if ket_thuc_phan_thuong == 0:\n",
        "            tay_trang += 1\n",
        "    return tay_trang / sl_mo_phong\n",
        "\n",
        "p = [0.25, 0.5, 0.75]\n",
        "N = 1000  # 1000$ Số tài sản mà nếu đạt được, trò chơi kết thúc\n",
        "W0 = 20  # Số tiền ban đầu\n",
        "sl_mo_phong = 500  # Số lần mô phỏng\n",
        "for p in p:\n",
        "    xac_suat_tay_trang = tinh_xac_suat_ket_thuc(p, N, W0, sl_mo_phong)\n",
        "    print(f\"Xác suất ra về tay trắng với p={p}: {xac_suat_tay_trang:.4f}\")"
      ],
      "metadata": {
        "colab": {
          "base_uri": "https://localhost:8080/"
        },
        "id": "49fUISX-c2TD",
        "outputId": "17534c33-a1e3-4d34-f84c-8ca8d072f2ac"
      },
      "execution_count": 7,
      "outputs": [
        {
          "output_type": "stream",
          "name": "stdout",
          "text": [
            "Xác suất ra về tay trắng với p=0.25: 1.0000\n",
            "Xác suất ra về tay trắng với p=0.5: 0.9760\n",
            "Xác suất ra về tay trắng với p=0.75: 0.0000\n"
          ]
        }
      ]
    },
    {
      "cell_type": "markdown",
      "source": [
        "##2. Tính xác suất thắng được N = $100, với p = 0.25, 0.5, 0.75"
      ],
      "metadata": {
        "id": "r-0rx4skhAcj"
      }
    },
    {
      "cell_type": "code",
      "source": [
        "def tinh_xac_suat_ket_thuc_win(p, N, W0, sl_mo_phong):\n",
        "    thang = 0\n",
        "    for _ in range(sl_mo_phong):\n",
        "        ket_thuc = game(p, N, W0)\n",
        "        if ket_thuc == N:\n",
        "            thang += 1\n",
        "    return thang / sl_mo_phong\n",
        "\n",
        "p = [0.25, 0.5, 0.75]\n",
        "N = 100\n",
        "W0 = 20\n",
        "sl_mo_phong = 500\n",
        "for p in p:\n",
        "    xac_suat_thang = tinh_xac_suat_ket_thuc_win(p, N, W0, sl_mo_phong)\n",
        "    print(f\"Xác suất thắng với p={p}: {xac_suat_thang:.4f}\")"
      ],
      "metadata": {
        "colab": {
          "base_uri": "https://localhost:8080/"
        },
        "id": "3DYmTSG6g-BW",
        "outputId": "8a5c2de2-81d6-4699-c828-b9f7ed9453a9"
      },
      "execution_count": 10,
      "outputs": [
        {
          "output_type": "stream",
          "name": "stdout",
          "text": [
            "Xác suất thắng với p=0.25: 0.0000\n",
            "Xác suất thắng với p=0.5: 0.1820\n",
            "Xác suất thắng với p=0.75: 1.0000\n"
          ]
        }
      ]
    },
    {
      "cell_type": "markdown",
      "source": [
        "##3. Nhận xét sự tương quan giữa tài sản khởi đầu và xác suất ra về tay trắng tương ứng với p = 0.25, 0.5, 0.75"
      ],
      "metadata": {
        "id": "VY33_Yzjj20Z"
      }
    },
    {
      "cell_type": "code",
      "source": [
        "import matplotlib.pyplot as plt\n",
        "\n",
        "# Hàm tính xác suất ra về tay trắng\n",
        "def tinh_xac_suat_tay_trang(p, N, W0_values, sl_mo_phong):\n",
        "    xac_suat = []\n",
        "    for W0 in W0_values:\n",
        "        prob = tinh_xac_suat_ket_thuc(p, N, W0, sl_mo_phong)\n",
        "        xac_suat.append(prob)\n",
        "    return xac_suat\n",
        "\n",
        "# Các giá trị tài sản khởi đầu\n",
        "W0_values = list(range(20, 101, 10))\n",
        "\n",
        "# Số lượt mô phỏng\n",
        "sl_mo_phong = 500\n",
        "\n",
        "# Các giá trị xác suất\n",
        "p_values = [0.25, 0.5, 0.75]\n",
        "\n",
        "# Tính toán xác suất tương ứng với mỗi giá trị tài sản khởi đầu\n",
        "xac_suat = {}\n",
        "for p in p_values:\n",
        "    xac_suat[p] = tinh_xac_suat_tay_trang(p, N, W0_values, sl_mo_phong)\n",
        "\n",
        "# Trực quan hóa sự tương quan giữa tài sản khởi đầu và xác suất ra về tay trắng\n",
        "for p in p_values:\n",
        "    plt.plot(W0_values, xac_suat[p], label=f'p = {p}')\n",
        "\n",
        "plt.xlabel('Tài sản khởi đầu')\n",
        "plt.ylabel('Xác suất ra về tay trắng')\n",
        "plt.title('Sự tương quan giữa tài sản khởi đầu và xác suất ra về tay trắng')\n",
        "plt.legend()\n",
        "plt.show()\n"
      ],
      "metadata": {
        "id": "_1joeo4kjDtS",
        "colab": {
          "base_uri": "https://localhost:8080/",
          "height": 474
        },
        "outputId": "d5d9d639-ace2-41a1-b451-7398d12d0f03"
      },
      "execution_count": 13,
      "outputs": [
        {
          "output_type": "display_data",
          "data": {
            "text/plain": [
              "<Figure size 640x480 with 1 Axes>"
            ],
            "image/png": "[encoded data removed]"
          },
          "metadata": {}
        }
      ]
    },
    {
      "cell_type": "markdown",
      "source": [
        "##4. Viết chương trình chính xác ra về tay trắng với W0 = $100 và xác suất p nằm trong khoảng từ 0.1 đến 0.9"
      ],
      "metadata": {
        "id": "PQEH4V1UkOl5"
      }
    },
    {
      "cell_type": "code",
      "source": [
        "import numpy as np\n",
        "\n",
        "N = 10000\n",
        "W0 = 100\n",
        "sl_mo_phong = 500\n",
        "\n",
        "def tinh_xac_suat(p):\n",
        "    tay_trang = 0\n",
        "    for _ in range(sl_mo_phong):\n",
        "        ket_thuc_phan_thuong = game(p, N, W0)\n",
        "        if ket_thuc_phan_thuong == 0:\n",
        "            tay_trang += 1\n",
        "    return tay_trang / sl_mo_phong\n",
        "\n",
        "p_ = np.linspace(0.1, 0.9, 9)\n",
        "\n",
        "for p in p_:\n",
        "    xac_suat_thang = tinh_xac_suat_ket_thuc(p, N, W0, sl_mo_phong)\n",
        "    print(f\"Xác suất thắng với p={p:.2f}: {xac_suat_thang:.4f}\")"
      ],
      "metadata": {
        "id": "KRI1Aas4kRBW",
        "colab": {
          "base_uri": "https://localhost:8080/"
        },
        "outputId": "0f4357f9-54a3-4a17-ebaa-d21328a9bb89"
      },
      "execution_count": 11,
      "outputs": [
        {
          "output_type": "stream",
          "name": "stdout",
          "text": [
            "Xác suất thắng với p=0.10: 1.0000\n",
            "Xác suất thắng với p=0.20: 1.0000\n",
            "Xác suất thắng với p=0.30: 1.0000\n",
            "Xác suất thắng với p=0.40: 1.0000\n",
            "Xác suất thắng với p=0.50: 0.9960\n",
            "Xác suất thắng với p=0.60: 0.0000\n",
            "Xác suất thắng với p=0.70: 0.0000\n",
            "Xác suất thắng với p=0.80: 0.0000\n",
            "Xác suất thắng với p=0.90: 0.0000\n"
          ]
        }
      ]
    }
  ]
}